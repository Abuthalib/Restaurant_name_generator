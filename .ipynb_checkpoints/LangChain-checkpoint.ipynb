{
 "cells": [
  {
   "cell_type": "markdown",
   "id": "f57b81bf",
   "metadata": {},
   "source": [
    "# LLMs"
   ]
  },
  {
   "cell_type": "code",
   "execution_count": 15,
   "id": "326188f1",
   "metadata": {},
   "outputs": [],
   "source": [
    "import os\n",
    "from langchain.llms import OpenAI"
   ]
  },
  {
   "cell_type": "code",
   "execution_count": 16,
   "id": "be8350e1",
   "metadata": {},
   "outputs": [],
   "source": [
    "from secret_key import openai_key"
   ]
  },
  {
   "cell_type": "code",
   "execution_count": 17,
   "id": "8ea62094",
   "metadata": {},
   "outputs": [],
   "source": [
    "os.environ[\"OPENAI_API_KEY\"] = openai_key"
   ]
  },
  {
   "cell_type": "code",
   "execution_count": 18,
   "id": "591a00cd",
   "metadata": {},
   "outputs": [],
   "source": [
    "llm = OpenAI(temperature=0.9)"
   ]
  },
  {
   "cell_type": "code",
   "execution_count": 21,
   "id": "4c028f2f",
   "metadata": {},
   "outputs": [
    {
     "name": "stdout",
     "output_type": "stream",
     "text": [
      "\n",
      "\n",
      "Mazhavil Pakwan Palace\n"
     ]
    }
   ],
   "source": [
    "name = llm.predict(\"I want to open a restaurant for malayalam food. Suggest a fancy name for this.\")\n",
    "print(name)\n"
   ]
  },
  {
   "cell_type": "markdown",
   "id": "5daadaab",
   "metadata": {},
   "source": [
    "# Prompt Templates"
   ]
  },
  {
   "cell_type": "code",
   "execution_count": 22,
   "id": "df8f1cfd",
   "metadata": {},
   "outputs": [],
   "source": [
    "from langchain.prompts import PromptTemplate"
   ]
  },
  {
   "cell_type": "code",
   "execution_count": 23,
   "id": "b0d495cc",
   "metadata": {},
   "outputs": [
    {
     "name": "stdout",
     "output_type": "stream",
     "text": [
      "I want to open a restaurant for Italian food. Suggest a fency name for this.\n"
     ]
    }
   ],
   "source": [
    "prompt_template_name = PromptTemplate(\n",
    "    input_variables=['cuisine'],\n",
    "    template = \"I want to open a restaurant for {cuisine} food. Suggest a fency name for this.\"\n",
    "    )\n",
    "p = prompt_template_name.format(cuisine = \"Italian\")\n",
    "print(p)"
   ]
  },
  {
   "cell_type": "markdown",
   "id": "55f0d461",
   "metadata": {},
   "source": [
    "# Chain"
   ]
  },
  {
   "cell_type": "code",
   "execution_count": 26,
   "id": "869b59c8",
   "metadata": {},
   "outputs": [
    {
     "name": "stdout",
     "output_type": "stream",
     "text": [
      "\n",
      "\n",
      "\u001b[1m> Entering new LLMChain chain...\u001b[0m\n",
      "Prompt after formatting:\n",
      "\u001b[32;1m\u001b[1;3mI want to open a restaurant for arabic food. Suggest a fency name for this.\u001b[0m\n",
      "\n",
      "\u001b[1m> Finished chain.\u001b[0m\n"
     ]
    },
    {
     "data": {
      "text/plain": [
       "'\\n\\n\"The Golden Sheikah\"'"
      ]
     },
     "execution_count": 26,
     "metadata": {},
     "output_type": "execute_result"
    }
   ],
   "source": [
    "from langchain.chains import LLMChain\n",
    "chain = LLMChain(llm = llm, prompt = prompt_template_name,verbose = True)\n",
    "chain.run(\"arabic\")"
   ]
  },
  {
   "cell_type": "code",
   "execution_count": 27,
   "id": "db714c68",
   "metadata": {},
   "outputs": [],
   "source": [
    "llm = OpenAI(temperature=0.6)\n",
    "prompt_template_name = PromptTemplate(\n",
    "        input_variables=['cuisine'],\n",
    "        template = \"i want to open a resturant for {cuisine} food.Suggest a fency name for this.\"\n",
    "        )\n",
    "\n",
    "name_chain = LLMChain(llm=llm,prompt=prompt_template_name)\n",
    "\n",
    "prompt_template_items = PromptTemplate(input_variables=['resturant_name'],\n",
    "                                      template=\"suggest some menu items for {resturant_name}\")\n",
    "\n",
    "food_items_chain = LLMChain(llm=llm,prompt=prompt_template_items)"
   ]
  },
  {
   "cell_type": "markdown",
   "id": "08e468af",
   "metadata": {},
   "source": [
    "# Simple Sequential Chain"
   ]
  },
  {
   "cell_type": "code",
   "execution_count": 30,
   "id": "5e1e594e",
   "metadata": {},
   "outputs": [
    {
     "name": "stdout",
     "output_type": "stream",
     "text": [
      "\n",
      "\n",
      "-Shish Taouk\n",
      "-Lahm Mishwe\n",
      "-Kebab\n",
      "-Falafel\n",
      "-Hummus\n",
      "-Baba Ghanouj\n",
      "-Shawarma\n",
      "-Fattoush\n",
      "-Kousa Mahshi\n",
      "-Kibbeh\n",
      "-Mujaddara\n",
      "-Tabbouleh\n",
      "-Fattet Hummus\n",
      "-Labneh\n",
      "-Moutabal\n",
      "-Mansaf\n"
     ]
    }
   ],
   "source": [
    "from langchain.chains import SimpleSequentialChain\n",
    "chain = SimpleSequentialChain(chains = [name_chain,food_items_chain])\n",
    "\n",
    "content = chain.run(\"Arabic\")\n",
    "print(content)"
   ]
  },
  {
   "cell_type": "markdown",
   "id": "95ce456c",
   "metadata": {},
   "source": [
    "# Sequential Chain"
   ]
  },
  {
   "cell_type": "code",
   "execution_count": 40,
   "id": "42484fce",
   "metadata": {},
   "outputs": [],
   "source": [
    "llm = OpenAI(temperature=0.7)\n",
    "\n",
    "prompt_tenplate_name1  = PromptTemplate(input_variables=[\"cuisine\"],\n",
    "                                      template=\"I want to open a restaurant for {cuisine} food. Suggest a fency name for this.\"\n",
    "                                      )\n",
    "name_chain1 = LLMChain(llm=llm,prompt=prompt_tenplate_name1,output_key=\"restaurant_name\")"
   ]
  },
  {
   "cell_type": "code",
   "execution_count": 41,
   "id": "392e5e42",
   "metadata": {},
   "outputs": [],
   "source": [
    "prompt_template_items1 = PromptTemplate(input_variables=[\"restaurant_name\"],\n",
    "                                       template=\"suggest some menu items for {restaurant_name}.\"\n",
    "                                       )\n",
    "food_items_chain1 = LLMChain(llm=llm,prompt=prompt_template_items1,output_key=\"menu_items\")"
   ]
  },
  {
   "cell_type": "code",
   "execution_count": 42,
   "id": "d1b9ec33",
   "metadata": {},
   "outputs": [],
   "source": [
    "from  langchain.chains import SequentialChain\n",
    "\n",
    "chain1 =SequentialChain(chains = [name_chain1,food_items_chain1],\n",
    "                       input_variables = ['cuisine'],\n",
    "                       output_variables = [\"restaurant_name\",\"menu_items\"]\n",
    "                       )\n"
   ]
  },
  {
   "cell_type": "code",
   "execution_count": 47,
   "id": "565ddb45",
   "metadata": {},
   "outputs": [
    {
     "data": {
      "text/plain": [
       "{'cuisine': 'indian',\n",
       " 'restaurant_name': '\\n\\nCurry Palace',\n",
       " 'menu_items': '\\n\\n-Chicken Tikka Masala\\n-Lamb Rogan Josh\\n-Vegetable Korma\\n-Butter Chicken\\n-Aloo Gobi\\n-Channa Masala\\n-Saag Paneer\\n-Matar Paneer\\n-Mango Chutney\\n-Raita\\n-Naan Bread\\n-Papadums\\n-Biryani Rice'}"
      ]
     },
     "execution_count": 47,
     "metadata": {},
     "output_type": "execute_result"
    }
   ],
   "source": [
    "chain1({\"cuisine\" : \"indian\"})"
   ]
  },
  {
   "cell_type": "markdown",
   "id": "fe1d40b3",
   "metadata": {},
   "source": [
    "# Agents"
   ]
  },
  {
   "cell_type": "code",
   "execution_count": null,
   "id": "799a5138",
   "metadata": {},
   "outputs": [],
   "source": []
  }
 ],
 "metadata": {
  "kernelspec": {
   "display_name": "Python 3 (ipykernel)",
   "language": "python",
   "name": "python3"
  },
  "language_info": {
   "codemirror_mode": {
    "name": "ipython",
    "version": 3
   },
   "file_extension": ".py",
   "mimetype": "text/x-python",
   "name": "python",
   "nbconvert_exporter": "python",
   "pygments_lexer": "ipython3",
   "version": "3.11.4"
  }
 },
 "nbformat": 4,
 "nbformat_minor": 5
}
